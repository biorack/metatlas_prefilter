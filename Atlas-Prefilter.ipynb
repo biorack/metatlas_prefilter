{
 "cells": [
  {
   "cell_type": "markdown",
   "id": "a1b10d9b-f8b3-4e51-846d-eddd584d3364",
   "metadata": {},
   "source": [
    "# Atlas Prefilter"
   ]
  },
  {
   "cell_type": "markdown",
   "id": "85f17f72-7822-4a84-8d6e-b01d69b47813",
   "metadata": {},
   "source": [
    "### Parameters\n",
    "\n",
    "The next code block sets parameters that are used throughout the remainder of the notebook."
   ]
  },
  {
   "cell_type": "code",
   "execution_count": null,
   "id": "cffa756a-f586-444b-9287-1cc177445272",
   "metadata": {
    "tags": []
   },
   "outputs": [],
   "source": [
    "# pylint: disable=invalid-name,missing-module-docstring\n",
    "\n",
    "## Set atlas pre-filter parameters. This will eventually be derived from the SLURM input and config file paramters\n",
    "## In a future version, both the template atlas and the RT adjustment atlases need to be retrieved from the MySQL database on NERSC\n",
    "\n",
    "raw_data_dir = '/global/cfs/cdirs/metatlas/raw_data/jgi'\n",
    "experiment = '20231103_JGI_MW_507961_Char_final-dil_EXP120B_C18_USDAY81385'\n",
    "\n",
    "msms_refs_path = '/global/cfs/cdirs/metatlas/projects/spectral_libraries/20240222_labeled-addition_msms_refs.tab'\n",
    "template_atlas_path = './metatlas-data/C18/C18_standards_positive.tsv'\n",
    "rt_alignment_atlas_path = './rt_alignment_atlases/C18_rt_alignment_positive.tsv'\n",
    "\n",
    "# either 'positive' or 'negative'\n",
    "polarity = 'positive'\n",
    "\n",
    "# filtering hit generation\n",
    "ppm_tolerance = 5\n",
    "extra_time = 0.5\n",
    "\n",
    "# filtering hits\n",
    "rt_window = 0.5\n",
    "peak_height = 5e5\n",
    "num_points = 4\n",
    "\n",
    "msms_filter = True\n",
    "msms_score = 0.65\n",
    "msms_matches = 4\n",
    "frag_tolerance = 0.02\n",
    "\n",
    "# use regression for rt alignment, otherwise use median offset\n",
    "rt_regression = False\n",
    "\n",
    "# rt alignment model degree if using regression\n",
    "model_degree = 1"
   ]
  },
  {
   "cell_type": "code",
   "execution_count": null,
   "id": "9d16f242-57bc-438b-a3a1-836610ad0df1",
   "metadata": {
    "tags": []
   },
   "outputs": [],
   "source": [
    "# pylint: disable=wrong-import-position,import-error,missing-class-docstring\n",
    "parameters = {k: v for k, v in globals().items() if k[0] != \"_\" and k not in [\"In\", \"Out\", \"get_ipython\", \"exit\", \"quit\", \"open\"]}\n",
    "\n",
    "import logging  # noqa: E402\n",
    "from pathlib import Path  # noqa: E402\n",
    "\n",
    "\n",
    "class StopExecution(Exception):\n",
    "    def _render_traceback_(self):\n",
    "        pass\n",
    "\n",
    "\n",
    "logger = logging.getLogger(\"metatlas.jupyter\")\n",
    "kernel_def = \"\"\"{\"argv\":[\"shifter\",\"--entrypoint\",\"--image=ghcr.io/biorack/metatlas/metatlas_shifter:latest\",\"/usr/local/bin/python\",\"-m\",\n",
    "                 \"ipykernel_launcher\",\"-f\",\"{connection_file}\"],\"display_name\": \"Metatlas Targeted\",\"language\": \"python\",\n",
    "                 \"metadata\": { \"debugger\": true }}\"\"\"\n",
    "kernel_file_name = Path.home() / \".local\" / \"share\" / \"jupyter\" / \"kernels\" / \"metatlas-targeted\" / \"kernel.json\"\n",
    "try:\n",
    "    has_root_kernel = Path(\"/root/.local/share/jupyter/kernels/papermill/kernel.json\").is_file()\n",
    "except PermissionError:\n",
    "    has_root_kernel = False\n",
    "if not has_root_kernel and not kernel_file_name.is_file():\n",
    "    kernel_file_name.parent.mkdir(parents=True, exist_ok=True)\n",
    "    with kernel_file_name.open(mode=\"w\", encoding=\"utf-8\") as f:\n",
    "        f.writelines(kernel_def)\n",
    "    logger.critical('CRITICAL: Notebook kernel has been installed. Set kernel to \"Metatlas Targeted\" and re-run notebook.')\n",
    "    raise StopExecution\n",
    "try:\n",
    "    import atlas_prefilter\n",
    "except ImportError as err:\n",
    "    logger.critical('CRITICAL: Set notebook kernel to \"Metatlas Targeted\" and re-run notebook.')\n",
    "    raise StopExecution from err"
   ]
  },
  {
   "cell_type": "code",
   "execution_count": null,
   "id": "22ca3fce-792b-41b2-85cb-f36fc9a21e8b",
   "metadata": {
    "tags": []
   },
   "outputs": [],
   "source": [
    "atlas_prefilter.generate_outputs(\n",
    "     raw_data_dir,\n",
    "     experiment,\n",
    "     msms_refs_path,\n",
    "     template_atlas_path,\n",
    "     rt_alignment_atlas_path,\n",
    "     polarity,\n",
    "     ppm_tolerance,\n",
    "     extra_time,\n",
    "     rt_window,\n",
    "     peak_height,\n",
    "     num_points,\n",
    "     msms_filter,\n",
    "     msms_score,\n",
    "     msms_matches,\n",
    "     frag_tolerance,\n",
    "     rt_regression,\n",
    "     model_degree\n",
    ")"
   ]
  },
  {
   "cell_type": "code",
   "execution_count": null,
   "id": "e6a28fb9-7e6f-4bc9-a0ac-082f5b526083",
   "metadata": {},
   "outputs": [],
   "source": []
  }
 ],
 "metadata": {
  "kernelspec": {
   "display_name": "Metatlas Targeted",
   "language": "python",
   "name": "metatlas-targeted"
  },
  "language_info": {
   "codemirror_mode": {
    "name": "ipython",
    "version": 3
   },
   "file_extension": ".py",
   "mimetype": "text/x-python",
   "name": "python",
   "nbconvert_exporter": "python",
   "pygments_lexer": "ipython3",
   "version": "3.11.8"
  }
 },
 "nbformat": 4,
 "nbformat_minor": 5
}
