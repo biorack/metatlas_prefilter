{
 "cells": [
  {
   "cell_type": "markdown",
   "id": "2c856110-ca62-4924-99e4-7c104ab45c64",
   "metadata": {},
   "source": [
    "# Downselect Full-Sized C18 Atlas Based on Experimental Features"
   ]
  },
  {
   "cell_type": "code",
   "execution_count": null,
   "id": "b4c570bb-89e0-40e5-a196-5e23547a9726",
   "metadata": {},
   "outputs": [],
   "source": [
    "import pandas as pd\n",
    "import numpy as np\n",
    "import glob\n",
    "import os\n",
    "\n",
    "import matchms as mms\n",
    "from matchms.similarity import CosineGreedy\n",
    "\n",
    "import sys\n",
    "sys.path.insert(0,'/global/homes/t/tharwood/repos/')\n",
    "from metatlas.io import feature_tools as ft\n",
    "\n",
    "from tqdm.notebook import tqdm"
   ]
  },
  {
   "cell_type": "code",
   "execution_count": null,
   "id": "75273876-8bc8-4620-96ec-0c87d2f3d65b",
   "metadata": {},
   "outputs": [],
   "source": [
    "def normalize_spectra(row):\n",
    "    filter_idx = np.argwhere(row['spectrum'][0]<(row['precursor_mz']+0.20)).flatten()\n",
    "    cleaned_spec = row['spectrum'][:,filter_idx]\n",
    "    \n",
    "    order_idx = np.argsort(cleaned_spec[0])\n",
    "    ordered_spec = np.array([cleaned_spec[0][order_idx], cleaned_spec[1][order_idx]])\n",
    "    \n",
    "    return ordered_spec\n",
    "\n",
    "def evaluate_score(score):\n",
    "    \n",
    "    if (score['score'] >= msms_score) & (score['matches'] >= msms_matches):\n",
    "        return True\n",
    "    else:\n",
    "        return False\n",
    "\n",
    "def calculate_ms2_summary(df):\n",
    "    \n",
    "    spectra = {'label':[], \n",
    "               'spectrum':[], \n",
    "               'rt':[], \n",
    "               'precursor_mz':[],\n",
    "               'precursor_peak_height':[]}\n",
    "    \n",
    "    for label_group, label_data in df[df['in_feature']==True].groupby('label'):\n",
    "        \n",
    "        label = label_group\n",
    "        \n",
    "        for rt_group, rt_data in pd.DataFrame(label_data).groupby('rt'):\n",
    "            \n",
    "            mz = np.array(rt_data.mz.tolist())\n",
    "            i = np.array(rt_data.i.tolist())\n",
    "        \n",
    "            mzi = np.array([mz, i])\n",
    "        \n",
    "            spectra['label'].append(label)\n",
    "            spectra['spectrum'].append(mzi)\n",
    "            spectra['rt'].append(rt_group)\n",
    "            \n",
    "            spectra['precursor_mz'].append(rt_data.precursor_MZ.median())\n",
    "            spectra['precursor_peak_height'].append(rt_data.precursor_intensity.median())\n",
    "        \n",
    "    return pd.DataFrame(spectra)"
   ]
  },
  {
   "cell_type": "markdown",
   "id": "7b3d427a-0941-4dc3-8fbf-b66c4cb017fe",
   "metadata": {},
   "source": [
    "## Set Pre-Filter Parameters"
   ]
  },
  {
   "cell_type": "code",
   "execution_count": null,
   "id": "aedc0ecf-c0b7-4e42-86b8-444abe6dea9d",
   "metadata": {},
   "outputs": [],
   "source": [
    "raw_data_dir = '/global/cfs/cdirs/metatlas/raw_data/jgi'\n",
    "experiment = '20231103_JGI_MW_507961_Char_final-dil_EXP120B_C18_USDAY81385'\n",
    "\n",
    "msms_refs_path = '/global/cfs/cdirs/metatlas/projects/spectral_libraries/20240222_labeled-addition_msms_refs.tab'\n",
    "c18_base_atlas_dir = '/global/homes/t/tharwood/repos/metatlas-data/C18/'\n",
    "\n",
    "polarity = 'positive'\n",
    "\n",
    "#filtering hit generation\n",
    "ppm_tolerance = 5\n",
    "extra_time = 0.5\n",
    "\n",
    "#filtering hits\n",
    "rt_window = 0.5\n",
    "peak_height = 5e5\n",
    "num_points = 4.0\n",
    "\n",
    "msms_filter = True\n",
    "msms_score = 0.65\n",
    "msms_matches = 4\n",
    "frag_tolerance = 0.02\n",
    "\n",
    "#use regression for rt allignment, otherwise use median offset\n",
    "rt_regression = False\n",
    "\n",
    "#rt alignment model degree if using regression\n",
    "model_degree = 1"
   ]
  },
  {
   "cell_type": "code",
   "execution_count": null,
   "id": "651f6467-0979-43e4-95a0-01714a024525",
   "metadata": {},
   "outputs": [],
   "source": [
    "if polarity == 'positive':\n",
    "    file_polarity = 'POS'\n",
    "    filter_polarity = 'NEG'\n",
    "else:\n",
    "    file_polarity = 'NEG'\n",
    "    filter_polarity = 'POS'\n",
    "\n",
    "all_files = glob.glob(os.path.join(raw_data_dir, experiment, '*.h5'))\n",
    "\n",
    "files_subset = [file for file in all_files if os.path.basename(file).split('_')[9] == file_polarity and 'QC' not in file]\n",
    "qc_files = [file for file in all_files if os.path.basename(file).split('_')[9] != filter_polarity and 'QC_' in file]"
   ]
  },
  {
   "cell_type": "code",
   "execution_count": null,
   "id": "153670fc-882b-4f9b-a8eb-652456decb1c",
   "metadata": {},
   "outputs": [],
   "source": [
    "len(all_files)"
   ]
  },
  {
   "cell_type": "markdown",
   "id": "779ada8d-b6cc-4210-b4aa-a30930da5089",
   "metadata": {},
   "source": [
    "## Generate RT Adjusted Atlas"
   ]
  },
  {
   "cell_type": "code",
   "execution_count": null,
   "id": "ed48ae0d-d29d-4f4a-b8df-46fb97770173",
   "metadata": {},
   "outputs": [],
   "source": [
    "c18_adjustment_atlas = pd.read_csv('/global/homes/t/tharwood/c18_metatlas_pre-filter/rt-adjustment_atlases/C18_rt-adjustment_{}.tsv'.format(polarity), sep='\\t')\n",
    "c18_base_atlas = pd.read_csv(os.path.join(c18_base_atlas_dir, 'C18_standards_{}.tsv'.format(polarity)), sep='\\t')"
   ]
  },
  {
   "cell_type": "code",
   "execution_count": null,
   "id": "05b737a3-471d-464d-af3c-0eb039653ec0",
   "metadata": {},
   "outputs": [],
   "source": [
    "c18_adjustment_atlas"
   ]
  },
  {
   "cell_type": "code",
   "execution_count": null,
   "id": "d73e1863-6250-4ae8-9e66-fea86ba73092",
   "metadata": {},
   "outputs": [],
   "source": [
    "%%time\n",
    "experiment_input = ft.setup_file_slicing_parameters(c18_adjustment_atlas, qc_files, base_dir=os.getcwd(), ppm_tolerance=ppm_tolerance, extra_time=extra_time, polarity=polarity)\n",
    "\n",
    "ms1_data = []\n",
    "\n",
    "for file_input in experiment_input:\n",
    "    \n",
    "    data = ft.get_data(file_input, save_file=False, return_data=True)\n",
    "    \n",
    "    data['ms1_summary']['lcmsrun_observed'] = file_input['lcmsrun']\n",
    "      \n",
    "    ms1_data.append(data['ms1_summary'])\n",
    "    \n",
    "ms1_data = pd.concat(ms1_data)"
   ]
  },
  {
   "cell_type": "code",
   "execution_count": null,
   "id": "ee922070-f34c-4a66-b0ea-7257b3797c77",
   "metadata": {},
   "outputs": [],
   "source": [
    "median_data = ms1_data[ms1_data['peak_height'] >= 1e4].groupby('label')['rt_peak'].median()"
   ]
  },
  {
   "cell_type": "code",
   "execution_count": null,
   "id": "28cf8ea6-b1c3-4f97-9887-d2e1a8fc49ae",
   "metadata": {},
   "outputs": [],
   "source": [
    "rt_merged = pd.merge(c18_adjustment_atlas[['label', 'rt_peak']], median_data, on='label')"
   ]
  },
  {
   "cell_type": "code",
   "execution_count": null,
   "id": "e4daa37d-9c5b-4a7a-89bc-0c825f8dfdf0",
   "metadata": {},
   "outputs": [],
   "source": [
    "x = rt_merged['rt_peak_x']\n",
    "y = rt_merged['rt_peak_y']\n",
    "\n",
    "\n",
    "if rt_regression:\n",
    "    rt_alignment_model = np.polyfit(x, y, model_degree)\n",
    "    rt_merged['rt_peak_predicted'] = rt_merged['rt_peak_x'].apply(lambda x: np.polyval(rt_alignment_model, x))\n",
    "    \n",
    "else:\n",
    "    median_offset = (y - x).median()\n",
    "    rt_merged['rt_peak_predicted'] = rt_merged['rt_peak_x'] + median_offset"
   ]
  },
  {
   "cell_type": "code",
   "execution_count": null,
   "id": "98343ad8-ad7d-4759-ab22-5e7708fff2d4",
   "metadata": {},
   "outputs": [],
   "source": [
    "c18_aligned_atlas = c18_base_atlas.copy()\n",
    "\n",
    "c18_aligned_atlas['rt_peak_unaligned'] = c18_aligned_atlas['rt_peak']\n",
    "\n",
    "\n",
    "if rt_regression:\n",
    "    c18_aligned_atlas['rt_peak'] = c18_aligned_atlas['rt_peak'].apply(lambda x: np.polyval(rt_alignment_model, x))\n",
    "\n",
    "else:\n",
    "    c18_aligned_atlas['rt_peak'] = c18_aligned_atlas['rt_peak'] + median_offset\n",
    "\n",
    "c18_aligned_atlas['rt_min'] = c18_aligned_atlas['rt_peak'] - rt_window\n",
    "c18_aligned_atlas['rt_max'] = c18_aligned_atlas['rt_peak'] + rt_window"
   ]
  },
  {
   "cell_type": "markdown",
   "id": "10c0278d-9078-42b2-93ed-1772a243177c",
   "metadata": {},
   "source": [
    "## Collect MS1 and MS2 Data"
   ]
  },
  {
   "cell_type": "code",
   "execution_count": null,
   "id": "5e551ad9-2195-46da-9935-26ca508cbcce",
   "metadata": {},
   "outputs": [],
   "source": [
    "%%time\n",
    "experiment_input = ft.setup_file_slicing_parameters(c18_aligned_atlas, files_subset, base_dir=os.getcwd(), ppm_tolerance=ppm_tolerance, extra_time=extra_time, polarity=polarity)\n",
    "\n",
    "ms1_data = []\n",
    "ms2_data = []\n",
    "\n",
    "for file_input in tqdm(experiment_input):\n",
    "    \n",
    "    data = ft.get_data(file_input, save_file=False, return_data=True)\n",
    "    \n",
    "    data['ms1_summary']['lcmsrun_observed'] = file_input['lcmsrun']\n",
    "    \n",
    "    ms2_summary = calculate_ms2_summary(data['ms2_data'])\n",
    "    ms2_summary['lcmsrun_observed'] = file_input['lcmsrun']\n",
    "    \n",
    "    ms1_data.append(data['ms1_summary'])\n",
    "    ms2_data.append(ms2_summary)\n",
    "    \n",
    "ms1_data = pd.concat(ms1_data)\n",
    "ms2_data = pd.concat(ms2_data)"
   ]
  },
  {
   "cell_type": "code",
   "execution_count": null,
   "id": "fac09f86-7488-436b-9a3a-b90bb6e1bbf1",
   "metadata": {},
   "outputs": [],
   "source": [
    "ms2_data['spectrum'] = ms2_data.apply(normalize_spectra, axis=1)"
   ]
  },
  {
   "cell_type": "code",
   "execution_count": null,
   "id": "0094d20b-8001-44d1-bc5b-0f39dc9bdc43",
   "metadata": {},
   "outputs": [],
   "source": [
    "# ms1_data['lcmsrun_basename'] = ms1_data['lcmsrun_observed'].apply(lambda x: os.path.basename(x))\n",
    "# ms2_data['lcmsrun_basename'] = ms2_data['lcmsrun_observed'].apply(lambda x: os.path.basename(x))"
   ]
  },
  {
   "cell_type": "code",
   "execution_count": null,
   "id": "72cce55f-c5f3-4559-a951-64a13379146f",
   "metadata": {},
   "outputs": [],
   "source": [
    "# ms1_data[ms1_data['lcmsrun_basename'].str.contains('ExCtrl')]"
   ]
  },
  {
   "cell_type": "code",
   "execution_count": null,
   "id": "398ec0dc-2cbf-432a-beac-b9df0fe9487a",
   "metadata": {},
   "outputs": [],
   "source": [
    "# ms2_data[ms2_data['lcmsrun_basename'].str.contains('ExCtrl')]"
   ]
  },
  {
   "cell_type": "markdown",
   "id": "24a9e3b6-466a-4276-b990-9561e7832101",
   "metadata": {},
   "source": [
    "## Get MSMS Hits"
   ]
  },
  {
   "cell_type": "code",
   "execution_count": null,
   "id": "23e4b09e-8da4-4b77-a891-37172c621b1c",
   "metadata": {},
   "outputs": [],
   "source": [
    "msms_refs_df = pd.read_csv(msms_refs_path, sep='\\t')"
   ]
  },
  {
   "cell_type": "code",
   "execution_count": null,
   "id": "b2a117b1-31de-40f2-8649-f5ad4a73e5af",
   "metadata": {},
   "outputs": [],
   "source": [
    "refs_compounds = set(msms_refs_df[msms_refs_df['database']=='metatlas']['inchi_key'].tolist())\n",
    "atlas_compounds = set(c18_base_atlas['inchi_key'].tolist())"
   ]
  },
  {
   "cell_type": "code",
   "execution_count": null,
   "id": "82cc2771-1457-4b02-add7-5775d2f0fa33",
   "metadata": {},
   "outputs": [],
   "source": [
    "ms2_data_annotated = pd.merge(ms2_data, c18_aligned_atlas[['label', 'inchi_key']], on='label')"
   ]
  },
  {
   "cell_type": "code",
   "execution_count": null,
   "id": "794402c8-9c8e-476c-ab05-2a27275d73a8",
   "metadata": {},
   "outputs": [],
   "source": [
    "msms_refs_filtered = msms_refs_df[(msms_refs_df['inchi_key'].isin(ms2_data_annotated['inchi_key'].tolist())) & \n",
    "                                  (msms_refs_df['database'] == 'metatlas') & \n",
    "                                  (msms_refs_df['polarity'] == polarity)].copy()\n",
    "\n",
    "msms_refs_filtered['spectrum'] = msms_refs_filtered['spectrum'].apply(lambda x: np.asarray(eval(x)))\n",
    "msms_refs_filtered['spectrum'] = msms_refs_filtered.apply(normalize_spectra, axis=1)"
   ]
  },
  {
   "cell_type": "code",
   "execution_count": null,
   "id": "b690bcbc-4112-4bdd-83ee-07646db916d7",
   "metadata": {},
   "outputs": [],
   "source": [
    "ms2_data_annotated = pd.merge(msms_refs_filtered[['id', 'inchi_key', 'spectrum']], ms2_data_annotated, on='inchi_key')"
   ]
  },
  {
   "cell_type": "code",
   "execution_count": null,
   "id": "74eb9922-4cb8-4edc-8293-cf583ad20bbb",
   "metadata": {},
   "outputs": [],
   "source": [
    "ms2_data_annotated['mms_spectrum_x'] = ms2_data_annotated.apply(lambda x: mms.Spectrum(x.spectrum_x[0], x.spectrum_x[1], metadata={'precursor_mz':x.precursor_mz}), axis=1)\n",
    "ms2_data_annotated['mms_spectrum_y'] = ms2_data_annotated.apply(lambda x: mms.Spectrum(x.spectrum_y[0], x.spectrum_y[1], metadata={'precursor_mz':x.precursor_mz}), axis=1)"
   ]
  },
  {
   "cell_type": "code",
   "execution_count": null,
   "id": "6e4001cd-a605-45cf-ab7b-9e927dcaa229",
   "metadata": {},
   "outputs": [],
   "source": [
    "cosine_greedy = CosineGreedy(tolerance=frag_tolerance)"
   ]
  },
  {
   "cell_type": "code",
   "execution_count": null,
   "id": "cbde828e-3546-4024-b2d2-7c225a5acef4",
   "metadata": {},
   "outputs": [],
   "source": [
    "ms2_data_annotated['score'] = ms2_data_annotated.apply(lambda x: cosine_greedy.pair(x.mms_spectrum_x, x.mms_spectrum_y), axis=1)"
   ]
  },
  {
   "cell_type": "code",
   "execution_count": null,
   "id": "e6a52285-c315-4987-a618-fdd09a1dfc1d",
   "metadata": {},
   "outputs": [],
   "source": [
    "ms2_data_annotated['keep'] = ms2_data_annotated['score'].apply(evaluate_score)"
   ]
  },
  {
   "cell_type": "markdown",
   "id": "b1aeca06-5c84-4dec-befc-cd1253a7f32a",
   "metadata": {},
   "source": [
    "## Filter Collected Data & Generate Reduced Atlas"
   ]
  },
  {
   "cell_type": "code",
   "execution_count": null,
   "id": "59a807e7-28fd-41b2-9cae-2f2450f5a0bc",
   "metadata": {},
   "outputs": [],
   "source": [
    "ms1_data_filtered = ms1_data[(ms1_data['peak_height'] >= peak_height) & (ms1_data['num_datapoints'] >= num_points)]\n",
    "ms1_reduced_labels = set(ms1_data_filtered.label.tolist())"
   ]
  },
  {
   "cell_type": "code",
   "execution_count": null,
   "id": "49a48b3e-3a96-48a4-a0cc-944f2f93815d",
   "metadata": {},
   "outputs": [],
   "source": [
    "if msms_filter:\n",
    "    ms2_data_filtered = ms2_data_annotated[ms2_data_annotated['keep']]\n",
    "    ms2_reduced_labels = set(ms2_data_annotated.label.tolist())\n",
    "    \n",
    "else:\n",
    "    ms2_reduced_labels = ms1_reduced_labels"
   ]
  },
  {
   "cell_type": "code",
   "execution_count": null,
   "id": "294e1991-9595-4359-92ee-9e3e79b27506",
   "metadata": {},
   "outputs": [],
   "source": [
    "reduced_labels = ms1_reduced_labels.intersection(ms2_reduced_labels)"
   ]
  },
  {
   "cell_type": "code",
   "execution_count": null,
   "id": "bc33a7fc-5cfc-46a9-b768-d842132f29fc",
   "metadata": {},
   "outputs": [],
   "source": [
    "c18_reduced_atlas = c18_aligned_atlas[c18_aligned_atlas['label'].isin(reduced_labels)]"
   ]
  },
  {
   "cell_type": "code",
   "execution_count": null,
   "id": "85bab5c3-1252-4344-b05a-1aba3d5f4886",
   "metadata": {},
   "outputs": [],
   "source": [
    "c18_reduced_atlas.shape"
   ]
  },
  {
   "cell_type": "code",
   "execution_count": null,
   "id": "1da6c8b9-5f25-42e8-9cc9-702342b2bbf4",
   "metadata": {},
   "outputs": [],
   "source": [
    "c18_reduced_atlas"
   ]
  },
  {
   "cell_type": "code",
   "execution_count": null,
   "id": "bebfc162-e762-4cfd-97ae-c2190fc43722",
   "metadata": {},
   "outputs": [],
   "source": [
    "c18_reduced_atlas['label'] = c18_reduced_atlas['label'].apply(lambda x: x.split(': ')[1].split(' [')[0])"
   ]
  },
  {
   "cell_type": "markdown",
   "id": "79b9befe-b149-4472-891d-5d68d0d48dfc",
   "metadata": {},
   "source": [
    "## Sanitize & Save Reduced Atlas"
   ]
  },
  {
   "cell_type": "code",
   "execution_count": null,
   "id": "36d3afcb-e8af-41e1-9c45-2b9cbdde8efc",
   "metadata": {},
   "outputs": [],
   "source": [
    "c18_reduced_atlas['label'] = c18_reduced_atlas['label'].apply(lambda x: x.encode('ascii','ignore').decode(\"ascii\").lower())"
   ]
  },
  {
   "cell_type": "code",
   "execution_count": null,
   "id": "b6ef9c6f-caca-462e-9e35-52e37fe7d196",
   "metadata": {},
   "outputs": [],
   "source": [
    "atlas_cols = ['label', 'adduct', 'polarity', 'mz', 'rt_peak', 'rt_min', 'rt_max', 'inchi_key']\n",
    "\n",
    "if not os.path.exists(experiment):\n",
    "    os.mkdir(experiment)\n",
    "\n",
    "c18_reduced_atlas[atlas_cols].to_csv(os.path.join(experiment, 'c18_{}_reduced_atlas.csv'.format(polarity)), index=False)"
   ]
  },
  {
   "cell_type": "code",
   "execution_count": null,
   "id": "cf477046-efd6-4445-9538-4fc76cb91d0e",
   "metadata": {},
   "outputs": [],
   "source": []
  },
  {
   "cell_type": "code",
   "execution_count": null,
   "id": "df49cb1a-da9d-4adc-b04e-a8e6f4d312b2",
   "metadata": {},
   "outputs": [],
   "source": []
  },
  {
   "cell_type": "code",
   "execution_count": null,
   "id": "fa6658e2-96cb-4952-b6a7-c4bc56f62c01",
   "metadata": {},
   "outputs": [],
   "source": []
  }
 ],
 "metadata": {
  "kernelspec": {
   "display_name": "Metatlas Targeted",
   "language": "python",
   "name": "metatlas-targeted"
  },
  "language_info": {
   "codemirror_mode": {
    "name": "ipython",
    "version": 3
   },
   "file_extension": ".py",
   "mimetype": "text/x-python",
   "name": "python",
   "nbconvert_exporter": "python",
   "pygments_lexer": "ipython3",
   "version": "3.11.8"
  }
 },
 "nbformat": 4,
 "nbformat_minor": 5
}
